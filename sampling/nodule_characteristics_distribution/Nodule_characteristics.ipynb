{
 "cells": [
  {
   "cell_type": "code",
   "execution_count": 1,
   "metadata": {},
   "outputs": [],
   "source": [
    "import numpy as np \n",
    "import pandas as pd\n",
    "import matplotlib.pyplot as plt\n",
    "\n",
    "annos_path='annotations_enhanced.csv'"
   ]
  },
  {
   "cell_type": "code",
   "execution_count": 2,
   "metadata": {},
   "outputs": [],
   "source": [
    "df=pd.read_csv(annos_path)"
   ]
  },
  {
   "cell_type": "code",
   "execution_count": 3,
   "metadata": {},
   "outputs": [
    {
     "data": {
      "text/plain": [
       "(1172, 23)"
      ]
     },
     "execution_count": 3,
     "metadata": {},
     "output_type": "execute_result"
    }
   ],
   "source": [
    "df.shape"
   ]
  },
  {
   "cell_type": "code",
   "execution_count": 4,
   "metadata": {},
   "outputs": [
    {
     "data": {
      "text/plain": [
       "Index(['seriesuid', 'coordX', 'coordY', 'coordZ', 'diameter_mm', 'Xorig',\n",
       "       'Yorig', 'Zorig', 'Xspac', 'Yspac', 'Zspac', 'Xnpy', 'Ynpy', 'Znpy',\n",
       "       'subtlety', 'internal_structure', 'calcification', 'sphericity',\n",
       "       'margin', 'lobulation', 'spiculation', 'texture', 'malignancy'],\n",
       "      dtype='object')"
      ]
     },
     "execution_count": 4,
     "metadata": {},
     "output_type": "execute_result"
    }
   ],
   "source": [
    "df.columns"
   ]
  },
  {
   "cell_type": "code",
   "execution_count": 5,
   "metadata": {},
   "outputs": [],
   "source": [
    "df=df.dropna()"
   ]
  },
  {
   "cell_type": "code",
   "execution_count": 6,
   "metadata": {},
   "outputs": [
    {
     "data": {
      "text/plain": [
       "(1172, 23)"
      ]
     },
     "execution_count": 6,
     "metadata": {},
     "output_type": "execute_result"
    }
   ],
   "source": [
    "df.shape"
   ]
  },
  {
   "cell_type": "code",
   "execution_count": 7,
   "metadata": {},
   "outputs": [
    {
     "data": {
      "text/plain": [
       "seriesuid             1.3.6.1.4.1.14519.5.2.1.6279.6001.100398138793...\n",
       "coordX                                                         -164.351\n",
       "coordY                                                         -283.834\n",
       "coordZ                                                         -790.075\n",
       "diameter_mm                                                     3.25344\n",
       "Xorig                                                            -268.9\n",
       "Yorig                                                          -394.619\n",
       "Zorig                                                            -924.7\n",
       "Xspac                                                          0.460938\n",
       "Yspac                                                          0.460938\n",
       "Zspac                                                              0.45\n",
       "Xnpy                                                            17.8847\n",
       "Ynpy                                                            78.1911\n",
       "Znpy                                                            16.3744\n",
       "subtlety                                                              1\n",
       "internal_structure                          [  0.25  0.    0.    0.75 ]\n",
       "calcification         [  0.          0.          0.          0.     ...\n",
       "sphericity                      [  0.          0.33333333  0.66666667 ]\n",
       "margin                                                                1\n",
       "lobulation                                                            1\n",
       "spiculation                                                           1\n",
       "texture                         [  0.          0.14285714  0.85714286 ]\n",
       "malignancy                                                            1\n",
       "dtype: object"
      ]
     },
     "execution_count": 7,
     "metadata": {},
     "output_type": "execute_result"
    }
   ],
   "source": [
    "df[df.columns].min()"
   ]
  },
  {
   "cell_type": "code",
   "execution_count": 8,
   "metadata": {},
   "outputs": [
    {
     "data": {
      "text/plain": [
       "seriesuid             1.3.6.1.4.1.14519.5.2.1.6279.6001.997611074084...\n",
       "coordX                                                          164.764\n",
       "coordY                                                          271.406\n",
       "coordZ                                                          1790.49\n",
       "diameter_mm                                                       32.27\n",
       "Xorig                                                             244.1\n",
       "Yorig                                                             241.6\n",
       "Zorig                                                              1604\n",
       "Xspac                                                          0.976562\n",
       "Yspac                                                          0.976562\n",
       "Zspac                                                               2.5\n",
       "Xnpy                                                            488.891\n",
       "Ynpy                                                            449.608\n",
       "Znpy                                                            662.537\n",
       "subtlety                                                              5\n",
       "internal_structure                                [  1.  0.  0.  0.   ]\n",
       "calcification                   [  0.25  0.25  0.    0.25  0.    0.25 ]\n",
       "sphericity                                            [  1.  0.  0.   ]\n",
       "margin                                                                5\n",
       "lobulation                                                         4.75\n",
       "spiculation                                                           5\n",
       "texture                                               [  1.  0.  0.   ]\n",
       "malignancy                                                            5\n",
       "dtype: object"
      ]
     },
     "execution_count": 8,
     "metadata": {},
     "output_type": "execute_result"
    }
   ],
   "source": [
    "df[df.columns].max()"
   ]
  },
  {
   "cell_type": "code",
   "execution_count": 9,
   "metadata": {},
   "outputs": [],
   "source": [
    "# cols=['subtlety','margin','lobulation','spiculation','calcification_new','sphericity_new','texture_new']\n",
    "\n",
    "# for i in range(7):\n",
    "#     plt.figure(figsize=(30,10))\n",
    "#     plt.scatter(df[cols[i]],df['malignancy'])\n",
    "#     plt.xlabel(cols[i])\n",
    "#     plt.ylabel('malignancy')\n",
    "#     plt.show();\n",
    "\n"
   ]
  },
  {
   "cell_type": "code",
   "execution_count": 10,
   "metadata": {},
   "outputs": [
    {
     "data": {
      "text/plain": [
       "seriesuid              object\n",
       "coordX                float64\n",
       "coordY                float64\n",
       "coordZ                float64\n",
       "diameter_mm           float64\n",
       "Xorig                 float64\n",
       "Yorig                 float64\n",
       "Zorig                 float64\n",
       "Xspac                 float64\n",
       "Yspac                 float64\n",
       "Zspac                 float64\n",
       "Xnpy                  float64\n",
       "Ynpy                  float64\n",
       "Znpy                  float64\n",
       "subtlety              float64\n",
       "internal_structure     object\n",
       "calcification          object\n",
       "sphericity             object\n",
       "margin                float64\n",
       "lobulation            float64\n",
       "spiculation           float64\n",
       "texture                object\n",
       "malignancy            float64\n",
       "dtype: object"
      ]
     },
     "execution_count": 10,
     "metadata": {},
     "output_type": "execute_result"
    }
   ],
   "source": [
    "df.dtypes"
   ]
  },
  {
   "cell_type": "code",
   "execution_count": 11,
   "metadata": {},
   "outputs": [
    {
     "data": {
      "text/plain": [
       "Index(['seriesuid', 'coordX', 'coordY', 'coordZ', 'diameter_mm', 'Xorig',\n",
       "       'Yorig', 'Zorig', 'Xspac', 'Yspac', 'Zspac', 'Xnpy', 'Ynpy', 'Znpy',\n",
       "       'subtlety', 'internal_structure', 'calcification', 'sphericity',\n",
       "       'margin', 'lobulation', 'spiculation', 'texture', 'malignancy',\n",
       "       'internal_structure_new', 'calcification_new', 'sphericity_new',\n",
       "       'texture_new'],\n",
       "      dtype='object')"
      ]
     },
     "execution_count": 11,
     "metadata": {},
     "output_type": "execute_result"
    }
   ],
   "source": [
    "\n",
    "\n",
    "cols=['internal_structure','calcification','sphericity','texture']\n",
    "for c in cols:\n",
    "    df[c+'_new']=0\n",
    "df.columns"
   ]
  },
  {
   "cell_type": "code",
   "execution_count": 12,
   "metadata": {},
   "outputs": [],
   "source": [
    "for idx,row in df.iterrows():\n",
    "    for c in cols:\n",
    "        arr=row[c].split()\n",
    "        arr=[float(i) for i in arr[1:-1]]\n",
    "        df.loc[idx,c+'_new']=arr.index(max(arr))+1"
   ]
  },
  {
   "cell_type": "code",
   "execution_count": 13,
   "metadata": {
    "scrolled": true
   },
   "outputs": [
    {
     "data": {
      "text/plain": [
       "seriesuid                 1.3.6.1.4.1.14519.5.2.1.6279.6001.100398138793...\n",
       "coordX                                                               69.639\n",
       "coordY                                                             -140.945\n",
       "coordZ                                                              876.374\n",
       "diameter_mm                                                         5.78635\n",
       "Xorig                                                              -170.688\n",
       "Yorig                                                              -309.688\n",
       "Zorig                                                                 716.7\n",
       "Xspac                                                                 0.625\n",
       "Yspac                                                                 0.625\n",
       "Zspac                                                                   1.8\n",
       "Xnpy                                                                384.522\n",
       "Ynpy                                                                269.989\n",
       "Znpy                                                                88.7081\n",
       "subtlety                                                            3.33333\n",
       "internal_structure                                    [  1.  0.  0.  0.   ]\n",
       "calcification                                 [  0.  0.  0.  0.  0.  1.   ]\n",
       "sphericity                                                [  0.  1.  0.   ]\n",
       "margin                                                              3.66667\n",
       "lobulation                                                          1.33333\n",
       "spiculation                                                         1.33333\n",
       "texture                                                   [  0.  0.  1.   ]\n",
       "malignancy                                                          2.66667\n",
       "internal_structure_new                                                    1\n",
       "calcification_new                                                         6\n",
       "sphericity_new                                                            2\n",
       "texture_new                                                               3\n",
       "Name: 0, dtype: object"
      ]
     },
     "execution_count": 13,
     "metadata": {},
     "output_type": "execute_result"
    }
   ],
   "source": [
    "df.loc[0]"
   ]
  },
  {
   "cell_type": "code",
   "execution_count": 14,
   "metadata": {},
   "outputs": [],
   "source": [
    "\n",
    "cols=['coordX','coordY','coordZ','Xorig','Yorig','Zorig','Xspac','Yspac','Zspac','Xnpy','Ynpy','Znpy','internal_structure','calcification','sphericity','texture']\n",
    "df.drop(columns=cols, axis=1, inplace=True)"
   ]
  },
  {
   "cell_type": "code",
   "execution_count": 15,
   "metadata": {
    "scrolled": false
   },
   "outputs": [
    {
     "data": {
      "text/plain": [
       "Index(['seriesuid', 'diameter_mm', 'subtlety', 'margin', 'lobulation',\n",
       "       'spiculation', 'malignancy', 'internal_structure_new',\n",
       "       'calcification_new', 'sphericity_new', 'texture_new'],\n",
       "      dtype='object')"
      ]
     },
     "execution_count": 15,
     "metadata": {},
     "output_type": "execute_result"
    }
   ],
   "source": [
    "df.columns"
   ]
  },
  {
   "cell_type": "code",
   "execution_count": 16,
   "metadata": {},
   "outputs": [],
   "source": [
    "df[['subtlety','margin','lobulation','spiculation','malignancy']]=df[['subtlety','margin','lobulation','spiculation','malignancy']].round(0).astype(int)"
   ]
  },
  {
   "cell_type": "code",
   "execution_count": 17,
   "metadata": {},
   "outputs": [],
   "source": [
    "df.to_csv('new_annotations_LUNA1.csv',index=False)"
   ]
  },
  {
   "cell_type": "code",
   "execution_count": null,
   "metadata": {},
   "outputs": [],
   "source": []
  },
  {
   "cell_type": "code",
   "execution_count": null,
   "metadata": {},
   "outputs": [],
   "source": []
  }
 ],
 "metadata": {
  "kernelspec": {
   "display_name": "Python 3",
   "language": "python",
   "name": "python3"
  },
  "language_info": {
   "codemirror_mode": {
    "name": "ipython",
    "version": 3
   },
   "file_extension": ".py",
   "mimetype": "text/x-python",
   "name": "python",
   "nbconvert_exporter": "python",
   "pygments_lexer": "ipython3",
   "version": "3.7.4"
  }
 },
 "nbformat": 4,
 "nbformat_minor": 2
}
