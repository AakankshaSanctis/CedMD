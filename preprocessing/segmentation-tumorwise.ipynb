{
 "cells": [
  {
   "cell_type": "code",
   "execution_count": 67,
   "metadata": {
    "colab": {},
    "colab_type": "code",
    "id": "9lPdcG9K7KRs"
   },
   "outputs": [],
   "source": [
    "import SimpleITK as sitk\n",
    "import numpy as np\n",
    "import csv\n",
    "from glob import glob\n",
    "import pandas as pd\n",
    "from skimage import morphology\n",
    "from skimage import measure\n",
    "from sklearn.cluster import KMeans\n",
    "from skimage.transform import resize\n",
    "from tqdm import tqdm\n",
    "import skimage\n",
    "from skimage.morphology import ball, disk, dilation, binary_erosion, remove_small_objects, erosion, closing, reconstruction, binary_closing\n",
    "from skimage.measure import label,regionprops, perimeter\n",
    "from skimage.morphology import binary_dilation, binary_opening\n",
    "from skimage.filters import roberts, sobel\n",
    "from skimage import measure, feature\n",
    "from skimage.segmentation import clear_border\n",
    "from skimage import data\n",
    "from scipy import ndimage as ndi\n",
    "import matplotlib.pyplot as plt\n",
    "from mpl_toolkits.mplot3d.art3d import Poly3DCollection\n",
    "#import pydicom\n",
    "import scipy.misc\n"
   ]
  },
  {
   "cell_type": "code",
   "execution_count": 68,
   "metadata": {
    "colab": {},
    "colab_type": "code",
    "id": "-fGjeBCe7LUC"
   },
   "outputs": [],
   "source": [
    "def get_filename(case):\n",
    "  global file_list\n",
    "  for f in file_list:\n",
    "    if case in f:\n",
    "      return(f)"
   ]
  },
  {
   "cell_type": "code",
   "execution_count": 69,
   "metadata": {
    "colab": {
     "base_uri": "https://localhost:8080/",
     "height": 36
    },
    "colab_type": "code",
    "id": "isRVfgmJ7Ng1",
    "outputId": "308f27f6-cb45-485f-a9dd-658eb9c28202"
   },
   "outputs": [],
   "source": [
    "subset=\"subset1\"\n",
    "luna_path=\"C:\\\\Users\\\\P70065719\\\\Desktop\\\\Thesis\\\\dataset\\\\LUNA\\\\1\\\\\"\n",
    "output_path=\"C:\\\\Users\\\\P70065719\\\\Desktop\\\\Thesis\\\\output\\\\\"\n",
    "file_list=glob(luna_path+\"data\\\\\"+subset+\"\\\\\"+\"*.mhd\")\n",
    "annotations_path=luna_path+\"annotations.csv\""
   ]
  },
  {
   "cell_type": "code",
   "execution_count": 70,
   "metadata": {
    "colab": {
     "base_uri": "https://localhost:8080/",
     "height": 36
    },
    "colab_type": "code",
    "id": "ebnX1nzNBnaI",
    "outputId": "2a7f9f90-cff5-4f7e-ccb4-e7e7d15a4b35"
   },
   "outputs": [
    {
     "data": {
      "text/plain": [
       "89"
      ]
     },
     "execution_count": 70,
     "metadata": {},
     "output_type": "execute_result"
    }
   ],
   "source": [
    "len(file_list)"
   ]
  },
  {
   "cell_type": "code",
   "execution_count": 71,
   "metadata": {
    "colab": {},
    "colab_type": "code",
    "id": "E0sEFd169Ewk"
   },
   "outputs": [],
   "source": [
    "df_node=pd.read_csv(annotations_path)\n",
    "df_node[\"file\"]=df_node[\"seriesuid\"].apply(get_filename)\n",
    "df_node=df_node.dropna()\n"
   ]
  },
  {
   "cell_type": "code",
   "execution_count": 72,
   "metadata": {
    "colab": {
     "base_uri": "https://localhost:8080/",
     "height": 36
    },
    "colab_type": "code",
    "id": "5Ctrw5qLyEga",
    "outputId": "7bec55f3-49e7-41c8-f234-f20d2c0652e5"
   },
   "outputs": [
    {
     "data": {
      "text/plain": [
       "128"
      ]
     },
     "execution_count": 72,
     "metadata": {},
     "output_type": "execute_result"
    }
   ],
   "source": [
    "len(df_node)"
   ]
  },
  {
   "cell_type": "code",
   "execution_count": 73,
   "metadata": {
    "colab": {},
    "colab_type": "code",
    "id": "06Tat5FzBEzx"
   },
   "outputs": [],
   "source": [
    "def make_mask(center,diam,z,width,height,spacing,origin):\n",
    "    '''\n",
    "Center : centers of circles px -- list of coordinates x,y,z\n",
    "diam : diameters of circles px -- diameter\n",
    "widthXheight : pixel dim of image\n",
    "spacing = mm/px conversion rate np array x,y,z\n",
    "origin = x,y,z mm np.array\n",
    "z = z position of slice in world coordinates mm\n",
    "    '''\n",
    "    mask = np.zeros([height,width]) # 0's everywhere except nodule swapping x,y to match img\n",
    "    #convert to nodule space from world coordinates\n",
    "\n",
    "    # Defining the voxel range in which the nodule falls\n",
    "    v_center = (center-origin)/spacing\n",
    "    v_diam = int(diam/spacing[0]+5)\n",
    "    v_xmin = np.max([0,int(v_center[0]-v_diam)-5])\n",
    "    v_xmax = np.min([width-1,int(v_center[0]+v_diam)+5])\n",
    "    v_ymin = np.max([0,int(v_center[1]-v_diam)-5]) \n",
    "    v_ymax = np.min([height-1,int(v_center[1]+v_diam)+5])\n",
    "\n",
    "    v_xrange = range(v_xmin,v_xmax+1)\n",
    "    v_yrange = range(v_ymin,v_ymax+1)\n",
    "\n",
    "    # Convert back to world coordinates for distance calculation\n",
    "    x_data = [x*spacing[0]+origin[0] for x in range(width)]\n",
    "    y_data = [x*spacing[1]+origin[1] for x in range(height)]\n",
    "\n",
    "    # Fill in 1 within sphere around nodule\n",
    "    for v_x in v_xrange:\n",
    "        for v_y in v_yrange:\n",
    "            p_x = spacing[0]*v_x + origin[0]\n",
    "            p_y = spacing[1]*v_y + origin[1]\n",
    "            if np.linalg.norm(center-np.array([p_x,p_y,z]))<=diam:\n",
    "                mask[int((p_y-origin[1])/spacing[1]),int((p_x-origin[0])/spacing[0])] = 1.0\n",
    "    return(mask)\n",
    "\n",
    "def matrix2int16(matrix):\n",
    "    ''' \n",
    "matrix must be a numpy array NXN\n",
    "Returns uint16 version\n",
    "    '''\n",
    "    m_min= np.min(matrix)\n",
    "    m_max= np.max(matrix)\n",
    "    matrix = matrix-m_min\n",
    "    return(np.array(np.rint( (matrix-m_min)/float(m_max-m_min) * 65535.0),dtype=np.uint16))\n"
   ]
  },
  {
   "cell_type": "code",
   "execution_count": 74,
   "metadata": {
    "colab": {},
    "colab_type": "code",
    "id": "Ld9hRZR62qQ8"
   },
   "outputs": [],
   "source": [
    "# def normalizePlanes(npzarray):\n",
    "#         maxHU = 400.\n",
    "#         minHU = -1000.\n",
    "#         npzarray = (npzarray - minHU) / (maxHU - minHU)\n",
    "#         npzarray[npzarray>1] = 1.\n",
    "#         npzarray[npzarray<0] = 0.\n",
    "#         return npzarray"
   ]
  },
  {
   "cell_type": "code",
   "execution_count": 75,
   "metadata": {
    "colab": {},
    "colab_type": "code",
    "id": "MFT_MsuzKT6K"
   },
   "outputs": [],
   "source": [
    "img_list={}\n",
    "import math\n",
    "prefix=luna_path+\"data\\\\\"+subset+\"\\\\\"\n",
    "f=0"
   ]
  },
  {
   "cell_type": "code",
   "execution_count": 76,
   "metadata": {
    "colab": {
     "base_uri": "https://localhost:8080/",
     "height": 1000
    },
    "colab_type": "code",
    "id": "1j0GD9mz9pFj",
    "outputId": "b0a2dbd0-9feb-41f9-8ef4-d276fc5958c9"
   },
   "outputs": [
    {
     "name": "stdout",
     "output_type": "stream",
     "text": [
      "0\n"
     ]
    }
   ],
   "source": [
    "for img_file in file_list:\n",
    "    #img_file='drive/My Drive/Thesis/dataset/subset0/1.3.6.1.4.1.14519.5.2.1.6279.6001.109002525524522225658609808059.mhd'\n",
    "    mini_df = df_node[df_node[\"file\"]==img_file] \n",
    "    #get all nodules associate with file\n",
    "    if mini_df.shape[0]>0: # some files may not have a nodule--skipping those \n",
    "        # load the data once\n",
    "        print(f)\n",
    "        f=f+1\n",
    "        itk_img = sitk.ReadImage(img_file) \n",
    "        img_array = sitk.GetArrayFromImage(itk_img) # indexes are z,y,x (notice the ordering)\n",
    "        num_z, height, width = img_array.shape        #heightXwidth constitute the transverse plane\n",
    "        origin = np.array(itk_img.GetOrigin())      # x,y,z  Origin in world coordinates (mm)\n",
    "        spacing = np.array(itk_img.GetSpacing())\n",
    "        #print(spacing)# spacing of voxels in world coor. (mm)\n",
    "        # go through all nodes (why just the biggest?)\n",
    "#         maxHU = 400.\n",
    "#         minHU = -1000.\n",
    "#         img_array = (img_array - minHU) / (maxHU - minHU)\n",
    "#         img_array[img_array>1] = 1.\n",
    "#         img_array[img_array<0] = 0.\n",
    "        t_num=-1 #Tumor number of patient\n",
    "        for node_idx, cur_row in mini_df.iterrows():       \n",
    "            node_x = cur_row[\"coordX\"]\n",
    "            node_y = cur_row[\"coordY\"]\n",
    "            node_z = cur_row[\"coordZ\"]\n",
    "            diam = cur_row[\"diameter_mm\"]\n",
    "            #print(diam)\n",
    "            # just keep 3 slices\n",
    "            t_num=t_num+1\n",
    "            positive_slices=math.ceil(diam/spacing[2])\n",
    "            imgs = np.ndarray([5,height,width],dtype=np.float32)\n",
    "            masks = np.ndarray([5,height,width],dtype=np.uint8)\n",
    "            center = np.array([node_x, node_y, node_z])   # nodule center\n",
    "            v_center = np.rint((center-origin)/spacing)  # nodule center in voxel space (still x,y,z ordering)\n",
    "            \n",
    "            \n",
    "#             for i, i_z in enumerate(np.arange(int(v_center[2])-int(positive_slices),\n",
    "#                              int(v_center[2])-int(positive_slices/2)).clip(0, num_z-1)):\n",
    "#                 fname=img_file[len(prefix):-4]+\"_\"+str(i_z)+\"_\"+str(0)\n",
    "#                 img_list[fname] = img_array[i_z]\n",
    "                \n",
    "                \n",
    "            for i, i_z in enumerate(np.arange(int(v_center[2])-2,\n",
    "                             int(v_center[2])+3).clip(0, num_z-1)): # clip prevents going out of bounds in Z\n",
    "                flag=0\n",
    "                if i_z in range(int(v_center[2])-int(positive_slices/2),int(v_center[2])+int(positive_slices/2)):\n",
    "                    flag=1\n",
    "                fname=img_file[len(prefix):-4]+\"_\"+str(t_num)+\"_\"+str(i_z)+\"_\"+str(flag)\n",
    "                img_list[fname] = img_array[i_z]\n",
    "    if img_list:\n",
    "        break\n",
    "            \n",
    "#             for i, i_z in enumerate(np.arange(int(v_center[2])+int(positive_slices/2),\n",
    "#                              int(v_center[2])+int(positive_slices)).clip(0, num_z-1)):\n",
    "#                 fname=img_file[len(prefix):-4]+\"_\"+str(i_z)+\"_\"+str(0)\n",
    "#                 img_list[fname] = img_array[i_z]\n",
    "  \n",
    "#             np.save(os.path.join(output_path,\"images_%04d_%04d.npy\" % (fcount, node_idx)),imgs)\n",
    "#             np.save(os.path.join(output_path,\"masks_%04d_%04d.npy\" % (fcount, node_idx)),masks)"
   ]
  },
  {
   "cell_type": "code",
   "execution_count": 77,
   "metadata": {
    "colab": {
     "base_uri": "https://localhost:8080/",
     "height": 1000
    },
    "colab_type": "code",
    "id": "IHbTCrk8Lzct",
    "outputId": "2b0ed574-1d53-495d-bc0d-68e2531d16f0"
   },
   "outputs": [
    {
     "data": {
      "text/plain": [
       "{'1.3.6.1.4.1.14519.5.2.1.6279.6001.104562737760173137525888934217_0_102_1': array([[-1000, -1000, -1000, ..., -1000, -1000, -1000],\n",
       "        [-1000, -1000, -1000, ..., -1000, -1000, -1000],\n",
       "        [-1000, -1000, -1000, ..., -1000, -1000, -1000],\n",
       "        ...,\n",
       "        [-1000, -1000, -1000, ..., -1000, -1000, -1000],\n",
       "        [-1000, -1000, -1000, ..., -1000, -1000, -1000],\n",
       "        [-1000, -1000, -1000, ..., -1000, -1000, -1000]], dtype=int16),\n",
       " '1.3.6.1.4.1.14519.5.2.1.6279.6001.104562737760173137525888934217_0_103_1': array([[-1000, -1000, -1000, ..., -1000, -1000, -1000],\n",
       "        [-1000, -1000, -1000, ..., -1000, -1000, -1000],\n",
       "        [-1000, -1000, -1000, ..., -1000, -1000, -1000],\n",
       "        ...,\n",
       "        [-1000, -1000, -1000, ..., -1000, -1000, -1000],\n",
       "        [-1000, -1000, -1000, ..., -1000, -1000, -1000],\n",
       "        [-1000, -1000, -1000, ..., -1000, -1000, -1000]], dtype=int16),\n",
       " '1.3.6.1.4.1.14519.5.2.1.6279.6001.104562737760173137525888934217_0_104_1': array([[-1000, -1000, -1000, ..., -1000, -1000, -1000],\n",
       "        [-1000, -1000, -1000, ..., -1000, -1000, -1000],\n",
       "        [-1000, -1000, -1000, ..., -1000, -1000, -1000],\n",
       "        ...,\n",
       "        [-1000, -1000, -1000, ..., -1000, -1000, -1000],\n",
       "        [-1000, -1000, -1000, ..., -1000, -1000, -1000],\n",
       "        [-1000, -1000, -1000, ..., -1000, -1000, -1000]], dtype=int16),\n",
       " '1.3.6.1.4.1.14519.5.2.1.6279.6001.104562737760173137525888934217_0_105_1': array([[-1000, -1000, -1000, ..., -1000, -1000, -1000],\n",
       "        [-1000, -1000, -1000, ..., -1000, -1000, -1000],\n",
       "        [-1000, -1000, -1000, ..., -1000, -1000, -1000],\n",
       "        ...,\n",
       "        [-1000, -1000, -1000, ..., -1000, -1000, -1000],\n",
       "        [-1000, -1000, -1000, ..., -1000, -1000, -1000],\n",
       "        [-1000, -1000, -1000, ..., -1000, -1000, -1000]], dtype=int16),\n",
       " '1.3.6.1.4.1.14519.5.2.1.6279.6001.104562737760173137525888934217_0_106_1': array([[-1000, -1000, -1000, ..., -1000, -1000, -1000],\n",
       "        [-1000, -1000, -1000, ..., -1000, -1000, -1000],\n",
       "        [-1000, -1000, -1000, ..., -1000, -1000, -1000],\n",
       "        ...,\n",
       "        [-1000, -1000, -1000, ..., -1000, -1000, -1000],\n",
       "        [-1000, -1000, -1000, ..., -1000, -1000, -1000],\n",
       "        [-1000, -1000, -1000, ..., -1000, -1000, -1000]], dtype=int16)}"
      ]
     },
     "execution_count": 77,
     "metadata": {},
     "output_type": "execute_result"
    }
   ],
   "source": [
    "img_list"
   ]
  },
  {
   "cell_type": "code",
   "execution_count": 78,
   "metadata": {
    "colab": {},
    "colab_type": "code",
    "id": "6XUmsqDMDVTY"
   },
   "outputs": [],
   "source": [
    "\n",
    "# import matplotlib.pyplot as plt\n",
    "# imgs[imgs<=-1000]=0\n",
    "# for i in range(len(imgs)):\n",
    "#     print (\"image %d\" % i)\n",
    "#     fig,ax = plt.subplots(2,2,figsize=[8,8])\n",
    "#     ax[0,0].imshow(imgs[i],cmap=plt.cm.bone)\n",
    "#     ax[0,1].imshow(masks[i],cmap=plt.cm.bone)\n",
    "#     ax[1,0].imshow(imgs[i]*masks[i],cmap=plt.cm.bone)\n",
    "#     plt.show()\n",
    "#     input(\"hit enter to cont : \")"
   ]
  },
  {
   "cell_type": "code",
   "execution_count": 79,
   "metadata": {
    "colab": {
     "base_uri": "https://localhost:8080/",
     "height": 36
    },
    "colab_type": "code",
    "id": "yTYLe4gB7Pk-",
    "outputId": "8caa32bc-d09b-4bd2-fdf3-ad1e92ef8378"
   },
   "outputs": [
    {
     "name": "stdout",
     "output_type": "stream",
     "text": [
      "5\n"
     ]
    }
   ],
   "source": [
    "\n",
    "\n",
    "\n",
    "\n",
    "prefix=luna_path+\"data\\\\\"+subset+\"\\\\\"\n",
    "print(len(img_list))\n",
    "# img_list=[]"
   ]
  },
  {
   "cell_type": "code",
   "execution_count": 80,
   "metadata": {
    "colab": {},
    "colab_type": "code",
    "id": "aPWL2OxC7Rux"
   },
   "outputs": [],
   "source": [
    "# for img_file in file_list:\n",
    "#   itk_img=sitk.ReadImage(img_file)\n",
    "#   img_array=sitk.GetArrayFromImage(itk_img)\n",
    "#   img_array[img_array<=-2000]=0\n",
    "#   img_list.append(img_array)"
   ]
  },
  {
   "cell_type": "code",
   "execution_count": 81,
   "metadata": {
    "colab": {},
    "colab_type": "code",
    "id": "J7ARMJyN7Uf_"
   },
   "outputs": [],
   "source": [
    "# len(img_list)"
   ]
  },
  {
   "cell_type": "code",
   "execution_count": 82,
   "metadata": {
    "colab": {},
    "colab_type": "code",
    "id": "oSwodPcx7jGb"
   },
   "outputs": [],
   "source": [
    "lung_mask={}"
   ]
  },
  {
   "cell_type": "code",
   "execution_count": 83,
   "metadata": {
    "colab": {},
    "colab_type": "code",
    "id": "tFloZ4ru7j4r"
   },
   "outputs": [],
   "source": [
    "import warnings\n",
    "warnings.simplefilter('error')\n",
    "f=0"
   ]
  },
  {
   "cell_type": "code",
   "execution_count": 84,
   "metadata": {
    "colab": {},
    "colab_type": "code",
    "id": "AJui7Edx7lqI"
   },
   "outputs": [],
   "source": [
    "for j in img_list :\n",
    "    # I ran into an error when using Kmean on np.float16, so I'm using np.float64 here\n",
    "#     imgs_to_process = img_list[j].astype(np.float64)\n",
    "#     print( f)\n",
    "#     f=f+1\n",
    "#     for i in range(len(imgs_to_process)):\n",
    "\n",
    "        imgs_to_process = img_list[j].astype(np.float64)\n",
    "        #Standardize the pixel values\n",
    "        img=imgs_to_process\n",
    "        mean = np.mean(img)\n",
    "        std = np.std(img)\n",
    "        img = img-mean\n",
    "        img = img/std if std!=0 else img\n",
    "        # Find the average pixel value near the lungs\n",
    "        # to renormalize washed out images\n",
    "        middle = img[100:400,100:400] \n",
    "        mean = np.mean(middle)  \n",
    "        max = np.max(img)\n",
    "        min = np.min(img)\n",
    "        # To improve threshold finding, I'm moving the \n",
    "        # underflow and overflow on the pixel spectrum\n",
    "        img[img==max]=mean\n",
    "        img[img==min]=mean\n",
    "        #\n",
    "        # Using Kmeans to separate foreground (radio-opaque tissue)\n",
    "        # and background (radio transparent tissue ie lungs)\n",
    "        # Doing this only on the center of the image to avoid \n",
    "        # the non-tissue parts of the image as much as possible\n",
    "        #\n",
    "        #warnings.simplefilter('error')\n",
    "        try:\n",
    "          \n",
    "          kmeans = KMeans(n_clusters=2).fit(np.reshape(middle,[np.prod(middle.shape),1]))\n",
    "          centers = sorted(kmeans.cluster_centers_.flatten())\n",
    "          threshold = np.mean(centers)\n",
    "          thresh_img = np.where(img<threshold,1.0,0.0)  # threshold the image\n",
    "        except:\n",
    "          imgs_to_process=np.zeros(shape=img.shape)\n",
    "          continue\n",
    "        #warnings.simplefilter('ignore')\n",
    "        #\n",
    "        # I found an initial erosion helful for removing graininess from some of the regions\n",
    "        # and then large dialation is used to make the lung region \n",
    "        # engulf the vessels and incursions into the lung cavity by \n",
    "        # radio opaque tissue\n",
    "        #\n",
    "        eroded = morphology.erosion(thresh_img,np.ones([4,4]))\n",
    "        dilation = morphology.dilation(eroded,np.ones([10,10]))\n",
    "        #\n",
    "        #  Label each region and obtain the region properties\n",
    "        #  The background region is removed by removing regions \n",
    "        #  with a bbox that is to large in either dimnsion\n",
    "        #  Also, the lungs are generally far away from the top \n",
    "        #  and bottom of the image, so any regions that are too\n",
    "        #  close to the top and bottom are removed\n",
    "        #  This does not produce a perfect segmentation of the lungs\n",
    "        #  from the image, but it is surprisingly good considering its\n",
    "        #  simplicity. \n",
    "        #\n",
    "        labels = measure.label(dilation)\n",
    "        label_vals = np.unique(labels)\n",
    "        regions = measure.regionprops(labels)\n",
    "        good_labels = []\n",
    "        for prop in regions:\n",
    "            B = prop.bbox\n",
    "            if B[2]-B[0]<475 and B[3]-B[1]<475 and B[0]>40 and B[2]<472:\n",
    "                good_labels.append(prop.label)\n",
    "        mask = np.ndarray([512,512],dtype=np.int8)\n",
    "        mask[:] = 0\n",
    "        #\n",
    "        #  The mask here is the mask for the lungs--not the nodes\n",
    "        #  After just the lungs are left, we do another large dilation\n",
    "        #  in order to fill in and out the lung mask \n",
    "        #\n",
    "        for N in good_labels:\n",
    "            mask = mask + np.where(labels==N,1,0)\n",
    "        mask = morphology.dilation(mask,np.ones([10,10])) # one last dilation\n",
    "        imgs_to_process = mask\n",
    "        lung_mask[j]=imgs_to_process\n",
    "   "
   ]
  },
  {
   "cell_type": "code",
   "execution_count": 85,
   "metadata": {
    "colab": {},
    "colab_type": "code",
    "id": "s30buDX6DpeS"
   },
   "outputs": [],
   "source": [
    "f=0\n",
    "import os"
   ]
  },
  {
   "cell_type": "code",
   "execution_count": 86,
   "metadata": {
    "colab": {
     "base_uri": "https://localhost:8080/",
     "height": 1000
    },
    "colab_type": "code",
    "id": "JzBab72p7nrJ",
    "outputId": "dbad2b5f-e35f-4e67-ec66-515fda431dcf"
   },
   "outputs": [
    {
     "name": "stdout",
     "output_type": "stream",
     "text": [
      "0\n",
      "1\n",
      "2\n",
      "3\n",
      "4\n"
     ]
    }
   ],
   "source": [
    "for i in lung_mask:\n",
    "    print(f)\n",
    "    f=f+1\n",
    "#     file_path=i.split('_')\n",
    "#     fname=output_path+file_path[0]+\"\\\\\"+file_path[1]+\"\\\\\"\n",
    "#     if not os.path.exists(fname):\n",
    "#         os.makedirs(fname)\n",
    "# #     fname=output_path+i\n",
    "    img=img_list[i]\n",
    "    lung=lung_mask[i]\n",
    "#     img_file=fname+file_path[2]+\"_\"+file_path[3]+\".png\"\n",
    "    final_img=img*lung\n",
    "    maxHU = 400.\n",
    "    minHU = -1000.\n",
    "    final_img = (final_img - minHU) / (maxHU - minHU)\n",
    "    final_img[final_img>1] = 1.\n",
    "    final_img[final_img<0] = 0.\n",
    "    img=(img-minHU)/(maxHU-minHU)\n",
    "    img[img>1]=1\n",
    "    img[img<0]=0\n",
    "    plt.imsave('img1.png',img,cmap=plt.cm.gray)\n",
    "    plt.imsave('mask1.png',lung,cmap=plt.cm.gray)\n",
    "    plt.imsave('seg1.png',final_img,cmap=plt.cm.gray)\n",
    "    \n",
    "    \n",
    "#     plt.imsave(img_file,final_img,cmap=plt.cm.gray)"
   ]
  },
  {
   "cell_type": "code",
   "execution_count": 66,
   "metadata": {
    "colab": {
     "base_uri": "https://localhost:8080/",
     "height": 36
    },
    "colab_type": "code",
    "id": "cSaKJ9O_6QGG",
    "outputId": "61230ef2-5eaa-43b7-9f1f-e0a62bcb87de"
   },
   "outputs": [
    {
     "data": {
      "text/plain": [
       "5"
      ]
     },
     "execution_count": 66,
     "metadata": {},
     "output_type": "execute_result"
    }
   ],
   "source": [
    "len(lung_mask)"
   ]
  },
  {
   "cell_type": "code",
   "execution_count": null,
   "metadata": {
    "colab": {},
    "colab_type": "code",
    "id": "pg6RKJ5uDRra"
   },
   "outputs": [],
   "source": []
  },
  {
   "cell_type": "code",
   "execution_count": null,
   "metadata": {},
   "outputs": [],
   "source": []
  },
  {
   "cell_type": "code",
   "execution_count": null,
   "metadata": {},
   "outputs": [],
   "source": []
  },
  {
   "cell_type": "code",
   "execution_count": null,
   "metadata": {},
   "outputs": [],
   "source": []
  }
 ],
 "metadata": {
  "accelerator": "GPU",
  "colab": {
   "machine_shape": "hm",
   "name": "Segment_Lungs.ipynb",
   "provenance": []
  },
  "kernelspec": {
   "display_name": "Python 3",
   "language": "python",
   "name": "python3"
  },
  "language_info": {
   "codemirror_mode": {
    "name": "ipython",
    "version": 3
   },
   "file_extension": ".py",
   "mimetype": "text/x-python",
   "name": "python",
   "nbconvert_exporter": "python",
   "pygments_lexer": "ipython3",
   "version": "3.7.4"
  }
 },
 "nbformat": 4,
 "nbformat_minor": 1
}
